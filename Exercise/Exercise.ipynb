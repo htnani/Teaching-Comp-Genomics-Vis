{
 "metadata": {
  "name": ""
 },
 "nbformat": 3,
 "nbformat_minor": 0,
 "worksheets": [
  {
   "cells": [
    {
     "cell_type": "markdown",
     "metadata": {},
     "source": [
      "# Comparative Genomics and Visualisation Exercise\n",
      "\n",
      "**NOTE** All questions can be answered using either the notebooks, or example code, from the activities in the Comparative Genomics and Visualisation course, and using the Life Sciences server for the course. Most modifications to code require no more than changing the locations of input files. One modification, in **Question 5** requires a more complicated modification of some of the code, and this modification is provided for you, below."
     ]
    },
    {
     "cell_type": "markdown",
     "metadata": {},
     "source": [
      "# Question 1\n",
      "\n",
      "In the `data` subdirectory you will find the FASTA sequence file `draft_genome.fasta`, representing assembled contigs from a bacterial genome sequencing project. You will also find complete bacterial genome sequences representing the following bacterial genera:\n",
      "\n",
      "* *Dickeya*: `NC_014500.fna`, `NC_013592.fna`, `NC_012880.fna`, `NC_012912.fna`\n",
      "* *Klebsiella*: `NC_016612.fna`, `NC_011283.fna`, `NC_017540.fna`, `NC_013850.fna`\n",
      "* *Pseudomonas*: `NC_022808.fna`, `NC_007492.fna`, `NC_004578.fna`, `NC_010322.fna`\n",
      "* *Staphylococcus*: `NC_004661.fna`, `NC_007795.fna`, `NC_017337.fna`, `NC_013893`\n",
      "\n",
      "Using bulk summary statistics of GC content and genome size, determine to which of the candidate bacterial genera the draft genome belongs.\n",
      "\n",
      "Comment on the relationship between the draft genome's length, and the lengths of the genomes in the genus to which you think it belongs.\n",
      "\n",
      "*HINT*: The draft genome may not only contain A, C, G and T.\n",
      "\n",
      "*HINT*: There is some code in slide 49 of Part 1.\n",
      "\n",
      "*HINT*: The iPython notebook `bacteria_size_gc.ipynb` may be useful."
     ]
    },
    {
     "cell_type": "markdown",
     "metadata": {},
     "source": [
      "# Question 2\n",
      "\n",
      "Using Average Nucleotide Identity (ANI) measures, determine whether the draft genome belongs to the same species as any of the other members of the genus.\n",
      "\n",
      "*HINT*: The `average_nucleotide_identity` activity may be useful.\n",
      "\n",
      "*CAUTION*: Due to library incompatibilities in the VM, the `calculate_ani.py` script will not produce graphical output, so using the `-g` argument will have no effect.\n",
      "\n",
      "*HINT*: The `calculate_ani.py` script expects all input files (and no others) to lie in the same directory."
     ]
    },
    {
     "cell_type": "markdown",
     "metadata": {},
     "source": [
      "# Question 3\n",
      "\n",
      "Use suitable whole genome alignments to investigate whether the draft genome has undergone rearrangement with respect to any of the complete genomes in the genus. Produce graphical output to demonstrate the extent of rearrangement (or lack thereof), and comment on your figures.\n",
      "\n",
      "*HINT*: The `nucmer_to_crunch.py` script in `Part_1/scripts` will be useful in generating `.crunch` output from **NUCmer** comparisons."
     ]
    },
    {
     "cell_type": "markdown",
     "metadata": {},
     "source": [
      "# Question 4\n",
      "\n",
      "Use **Prodigal** to generate CDS predictions for the draft genome, placing protein sequence predictions in the `faa` subdirectory, and GFF output in the subdirectory `gff`.\n",
      "\n",
      "*HINT*: The `predict_CDS` activity will be useful."
     ]
    },
    {
     "cell_type": "markdown",
     "metadata": {},
     "source": [
      "# Question 5\n",
      "\n",
      "Perform reciprocal best BLAST hit analysis on the draft genome, using the annotations from part 4 above, and all sequenced members of the genus to which it belongs.\n",
      "\n",
      "How many reciprocal best BLAST matches does the draft genome make with each other genome from that genus? Comment on what you find.\n",
      "\n",
      "Write the RBBH data to `.crunch` output files.\n",
      "\n",
      "*HINT*: The `find_rbbh` activity will be useful. In particular, you may want to adapt the `run_rbbh.sh` script to perform the BLASTP analyses with your files. \n",
      "\n",
      "*NOTE*: The BLASTP comparisons will take a while to run. You may want to make a cup of tea. Or have a long walk.\n",
      "\n",
      "**NOTE:** A GenBank (`.gbk`) format file has been provided for the draft genome. The features in that GenBank file will correspond to the **Prodigal** prediction you made in **Question 4**, if default settings were used.  \n",
      "\n",
      "**!!NOTE!!**: You will need to use the alternative `write_crunch()` and `write_line()` functions below, to replace those in the `find_rbbh.ipynb` notebook, to generate output suitable for **Question 6** below."
     ]
    },
    {
     "cell_type": "code",
     "collapsed": false,
     "input": [
      "# Function to split a full sequence reference ID into only the last value\n",
      "def split_seqid(seqid):\n",
      "    if '|' not in seqid:\n",
      "        return seqid\n",
      "    return seqid.split('|')[-2]\n",
      "\n",
      "# Function to write a single line of a Pandas RBBH dataframe to file\n",
      "def write_line(line, features, fh):\n",
      "    ft1 = features[split_seqid(line['query_id_x'])]\n",
      "    ft2 = features[split_seqid(line['subject_id_x'])]\n",
      "    fh.write(' '.join([str(line['bitscore_x']),\n",
      "                       str(line['percentage_identity_x']),\n",
      "                       str(ft1[2]) if ft1[3] < 0 else str(ft1[1]),\n",
      "                       str(ft1[1]) if ft1[3] < 0 else str(ft1[1]),                                \n",
      "                       str(line['query_id_x']),\n",
      "                       str(ft2[2]) if ft2[3] < 0 else str(ft2[1]),\n",
      "                       str(ft2[1]) if ft2[3] < 0 else str(ft2[1]),\n",
      "                       str(line['subject_id_x'])\n",
      "                       ]) + '\\n')\n",
      "\n",
      "# Function to write .crunch output for ACT visualisation, from the\n",
      "# RBBH identified above\n",
      "def write_crunch(rbbh, features, outdir=\"rbbh_output\", \n",
      "                 filename=\"rbbh.crunch\"):\n",
      "    \"\"\" Writes .crunch output in outdir, for those RBBH stored in the \n",
      "        passed dataframe\n",
      "    \"\"\"\n",
      "    with open(os.path.join(outdir, filename), 'w') as fh:\n",
      "        rbbh.apply(write_line, axis=1, args=(features, fh))\n",
      "    print \"Wrote file to %s\" % os.path.join(outdir, filename)"
     ],
     "language": "python",
     "metadata": {},
     "outputs": [],
     "prompt_number": 1
    },
    {
     "cell_type": "markdown",
     "metadata": {},
     "source": [
      "# Question 6\n",
      "\n",
      "Use **i-ADHoRe** to identify collinear regions in the draft genome, and **one** other member of the genus. \n",
      "\n",
      "Choose one of the sequenced members of the genus. Generate a visualisation of the collinear regions in that genome and the draft genome, and comment on the output.\n",
      "\n",
      "*HINT*: You will find the `i-ADHoRe` activity useful - particularly if you modify the `generate_config.py` script and copy `iadhore.py` to this directory, or if you reuse the `i-ADHoRe.ipynb` notebook.\n",
      "\n",
      "*HINT*: You might find the command `cat rbbh_output/<prefix>.crunch | cut -d ' ' -f 5,8 > i-adhore/rbbh_data.tab` useful."
     ]
    }
   ],
   "metadata": {}
  }
 ]
}