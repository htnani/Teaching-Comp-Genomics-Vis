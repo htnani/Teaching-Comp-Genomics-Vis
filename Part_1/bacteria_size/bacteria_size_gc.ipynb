{
 "metadata": {
  "name": ""
 },
 "nbformat": 3,
 "nbformat_minor": 0,
 "worksheets": [
  {
   "cells": [
    {
     "cell_type": "markdown",
     "metadata": {},
     "source": [
      "# Whole genome summary statistical data - bacteria_size_gc.ipynb\n",
      "\n",
      "## Overview\n",
      "\n",
      "The purpose of this activity is \n",
      "\n",
      "1. to demonstrate that genome comparisons do not need to involve sequence comparison, or comparison of biological features\n",
      "2. to demonstrate basic data visualisation using Python, in a biological context\n",
      "3. to demonstrate some simple Python code for interacting with biological sequences and dataframes\n",
      "\n",
      "When you have completed this activity you should be able \n",
      "\n",
      "1. to understand how to calculate basic bulk properties of a genome using Python\n",
      "2. to understand that bulk properties such as GC content and chromosome length can be useful to classify biological sequences"
     ]
    },
    {
     "cell_type": "markdown",
     "metadata": {},
     "source": [
      "## Introduction\n",
      "\n",
      "Bacterial genomes are relatively simple (especially compared to many eukaryotic genomes), and typically comprise only a single (usually circular) chromosome, and possibly a small number of plasmids.\n",
      "\n",
      "Bacterial chromosome properties such as length and GC content vary, usually reliably, by bacterial species and genus (histogram from [http://www.sci.sdsu.edu/~smaloy/MicrobialGenetics/topics/chroms-genes-prots/genomes.html](http://www.sci.sdsu.edu/~smaloy/MicrobialGenetics/topics/chroms-genes-prots/genomes.html). \n",
      "\n",
      "![Histogram of approximate genome size for bacteria and archaea](http://www.sci.sdsu.edu/~smaloy/MicrobialGenetics/topics/chroms-genes-prots/genome-sizes.gif \"Histogram of approximate genome size for bacteria and archaea\")\n",
      "\n",
      "We can visualise the similarities and differences among and between genomes by plotting summary statistics in scatterplots."
     ]
    },
    {
     "cell_type": "markdown",
     "metadata": {},
     "source": [
      "# Python Code\n",
      "\n",
      "The following cell contains Python code that is used in the activities below. You should feel welcome to use and adapt this code when tackling the course exercises."
     ]
    },
    {
     "cell_type": "code",
     "collapsed": false,
     "input": [
      "# This Python code serves the following purpose:\n",
      "#\n",
      "# 1) Defines the small set of example genome sequences we will \n",
      "#    be working with.\n",
      "# 2) Provides a function that gives an example of: calculating \n",
      "#    biological sequence length and GC content directly;\n",
      "#    using Biopython to load a bacterial chromosome sequence;\n",
      "#    and placing data into a Pandas dataframe, for convenience.\n",
      "# 3) Provides a function that gives an example of plotting data\n",
      "#    from a Pandas dataframe.\n",
      "\n",
      "# IMPORTS\n",
      "from Bio import SeqIO\n",
      "from Bio.Graphics.ColorSpiral import get_color_dict\n",
      "from IPython.display import Image\n",
      "\n",
      "import pandas as pd\n",
      "\n",
      "import os\n",
      "\n",
      "# DATA\n",
      "# Dictionary associating .fna chromosome sequence files to example bacteria\n",
      "bact_files = {\"Mycoplasma genitalium\": (\"NC_018495.fna\", \"NC_018496.fna\",\n",
      "                                        \"NC_018497.fna\", \"NC_018498.fna\"),\n",
      "              \"Mycoplasma pneumoniae\": (\"NC_000912.fna\", \"NC_016807.fna\", \n",
      "                                        \"NC_017504.fna\", \"NC_020076.fna\"),\n",
      "              \"Nostoc punctiforme\": (\"NC_010628.fna\",),\n",
      "              \"Escherichia coli\": (\"NC_000913.fna\", \"NC_002695.fna\",\n",
      "                                   \"NC_004431.fna\", \"NC_010468.fna\"),\n",
      "              \"Mycobacterium tuberculosis\": (\"NC_016934.fna\", \"NC_017523.fna\",\n",
      "                                             \"NC_022350.fna\", \"NC_000962.fna\")}\n",
      "\n",
      "# FUNCTIONS\n",
      "# Function calculating chromosome length and GC content\n",
      "def calc_size_gc(*names):\n",
      "    \"\"\" When passed names corresponding to the bacteria\n",
      "        listed in bact_files, returns a Pandas dataframe\n",
      "        representing sequence length and GC content for\n",
      "        each chromosome.\n",
      "    \"\"\"\n",
      "    # Use a Pandas DataFrame to hold data. Dataframes are \n",
      "    # useful objects/concepts, and support a number of \n",
      "    # operations that we will exploit later.\n",
      "    df = pd.DataFrame(columns=['species', 'length', 'GC', 'color'])\n",
      "    # Get one colour for each species, from Biopython's \n",
      "    # ColorSpiral module\n",
      "    colors = get_color_dict(names, a=6, b=0.2)\n",
      "    # Loop over the passed species names, and collect data\n",
      "    for name in names:\n",
      "        try:\n",
      "            for filename in bact_files[name]:\n",
      "                ch = SeqIO.read(os.path.join('../data', filename), 'fasta')\n",
      "                ch_size = len(ch.seq)\n",
      "                ch_gc = float(ch.seq.count('C') + ch.seq.count('G')) / ch_size\n",
      "                df = df.append(pd.DataFrame([dict(species=name, length=ch_size, \n",
      "                                                  GC=ch_gc, color=colors[name]), ]), \n",
      "                               ignore_index=True)\n",
      "        except KeyError:\n",
      "            print \"Did not recognise species: %s\" % name\n",
      "            continue\n",
      "    return df\n",
      "\n",
      "\n",
      "# Plot chromosome size and GC data\n",
      "def plot_data(dataframe, filename=None):\n",
      "    \"\"\" When passed a dataframe corresponding to the output\n",
      "        of calc_size_gc, renders a scatterplot of \n",
      "        chromosome length against GC content.\n",
      "    \"\"\"\n",
      "    # One advantage of using a Pandas dataframe is that we can\n",
      "    # operate on the data by the content of the data. Here we're\n",
      "    # treating the dataframe as a series of subsets on the basis\n",
      "    # of named species. This allows us to label our scatterplot\n",
      "    # by species, too.\n",
      "    fig = figure(figsize=(8,4))\n",
      "    ax = fig.add_subplot(111)\n",
      "    ax.set_position([0.15, 0.15, 0.45, 0.75])\n",
      "    for k, sub in dataframe.groupby(\"species\"):\n",
      "        ax.scatter(x=sub.GC, y=sub.length, c=list(sub.color), label=k, s=50)\n",
      "    ax.set_xlabel(\"GC content/%\")\n",
      "    ax.set_ylabel(\"chromosome length/bp\")\n",
      "    ax.set_title(\"Chr length vs GC%, grouped by species\")\n",
      "    leg = ax.legend(bbox_to_anchor=(1.0, 0.5), loc='center left')\n",
      "    if filename is not None:\n",
      "        fig.savefig(filename)"
     ],
     "language": "python",
     "metadata": {},
     "outputs": []
    },
    {
     "cell_type": "markdown",
     "metadata": {},
     "source": [
      "# Activity"
     ]
    },
    {
     "cell_type": "markdown",
     "metadata": {},
     "source": [
      "We can use the functions `calc_size_gc()` and `plot_data()`, which are defined above, to render scatterplots of chromosome length against GC%.\n",
      "\n",
      "First, let's plot *Mycoplasma genitalium* and *Escherichia coli*:"
     ]
    },
    {
     "cell_type": "code",
     "collapsed": false,
     "input": [
      "data1 = calc_size_gc('Mycoplasma genitalium', 'Escherichia coli')\n",
      "plot_data(data1)"
     ],
     "language": "python",
     "metadata": {},
     "outputs": []
    },
    {
     "cell_type": "markdown",
     "metadata": {},
     "source": [
      "We can see that *M. genitalium* (lower left) has a much lower GC% (30% rather than 50%), and shorter chromosomes (less than 1mbp compared to 5-6mbp) than *E. coli* (upper right). It is also clear that there is more variation in the length and GC% of the four *E. coli* isolates we're looking at, than in the four *M. genitalium* examples.\n",
      "\n",
      "A similar interpretation can be made for the *Mycobacterium tuberculosis* and *Mycoplasma pneumoniae* chromosomes, below:"
     ]
    },
    {
     "cell_type": "code",
     "collapsed": false,
     "input": [
      "plot_data(calc_size_gc('Mycoplasma pneumoniae', 'Mycobacterium tuberculosis'))"
     ],
     "language": "python",
     "metadata": {},
     "outputs": []
    },
    {
     "cell_type": "markdown",
     "metadata": {},
     "source": [
      "And we can write our plots to a file by passing the `filename` argument. For common image files, the function will be able to infer what format is needed from the filename. For example, to plot a `.png` image of *E. coli* and *M. tuberculosis* we can use:"
     ]
    },
    {
     "cell_type": "code",
     "collapsed": false,
     "input": [
      "plot_data(calc_size_gc('Escherichia coli', 'Mycobacterium tuberculosis'), filename=\"example.png\")"
     ],
     "language": "python",
     "metadata": {},
     "outputs": []
    },
    {
     "cell_type": "markdown",
     "metadata": {},
     "source": [
      "We can visualise the output directly in iPython with:"
     ]
    },
    {
     "cell_type": "code",
     "collapsed": false,
     "input": [
      "Image(\"example.png\")"
     ],
     "language": "python",
     "metadata": {},
     "outputs": []
    },
    {
     "cell_type": "markdown",
     "metadata": {},
     "source": [
      "**Activity 1**: Use the `calc_size_gc()` and `plot_data()` functions to render a scatterplot of all the example chromosomes in `bact_files` to the files \"`all_chromosomes.pdf`\" and \"`all_chromosomes.png`\", and visualise the `.png` file in the cell below."
     ]
    },
    {
     "cell_type": "code",
     "collapsed": false,
     "input": [
      "# Use this cell to complete Activity 1"
     ],
     "language": "python",
     "metadata": {},
     "outputs": []
    },
    {
     "cell_type": "markdown",
     "metadata": {},
     "source": [
      "As summary statistics such as the chromosome length and GC content can be characteristic of a bacterial species, it is possible to use them to help infer the species of bacterium from which an \"unknown\" chromosome sequence may originate.\n",
      "\n",
      "We can add new data representing a chromosome of unknown origin to the data for all example chromosomes, and produce a scatterplot. The proximity to points from a named species may indicate the origin of the unknown chromosome."
     ]
    },
    {
     "cell_type": "code",
     "collapsed": false,
     "input": [
      "data = calc_size_gc('Nostoc punctiforme', 'Mycobacterium tuberculosis', \n",
      "                    'Mycoplasma pneumoniae', 'Mycoplasma genitalium', \n",
      "                    'Escherichia coli')\n",
      "data = data.append(pd.DataFrame([dict(species=\"Unknown\", length=4391174, \n",
      "                                              GC=0.656209, color=(1, 0.2, 0.2)), ]), \n",
      "                               ignore_index=True)\n",
      "plot_data(data)"
     ],
     "language": "python",
     "metadata": {},
     "outputs": []
    },
    {
     "cell_type": "markdown",
     "metadata": {},
     "source": [
      "**Activity 2**: To which species does the chromosome of unknown origin likely belong?"
     ]
    }
   ],
   "metadata": {}
  }
 ]
}