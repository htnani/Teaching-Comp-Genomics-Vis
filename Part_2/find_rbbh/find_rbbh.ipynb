{
 "metadata": {
  "name": ""
 },
 "nbformat": 3,
 "nbformat_minor": 0,
 "worksheets": [
  {
   "cells": [
    {
     "cell_type": "markdown",
     "metadata": {},
     "source": [
      "# Finding reciprocal best BLAST hits - find_rbbh.ipynb\n",
      "\n",
      "## Overview\n",
      "The purpose of this exercise is to carry out each stage in a reciprocal best BLAST hit (RBBH) comparison, to find putative orthologues between the protein complements of a set of bacteria. This involves:\n",
      "\n",
      "\n",
      "1. **Conducting BLASTP comparisons** between sets of proteins\n",
      "2. **Processing the output** to identify reciprocal best BLAST hits\n",
      "3. **Visualisation and interpretation** of the output\n"
     ]
    },
    {
     "cell_type": "markdown",
     "metadata": {},
     "source": [
      "## 1. Conducting BLASTP comparisons\n",
      "\n",
      "For demonstration purposes, three chromosomal protein complements of related bacteria are provided in the `data` directory:\n",
      "\n",
      "* `NC_004547.faa`: *Pectobacterium atrosepticum* SCRI1043\n",
      "* `NC_013421.faa`: *Pectobacterium wasabiae* WPP163\n",
      "* `NC_010694.faa`: *Erwinia tasmaniensis* ET1_99\n",
      "\n",
      "BLASTP comparisons of each protein sequence file were conducted against both of the other protein sequence files:\n",
      "\n",
      "* `NC_004547` vs `NC_013421`\n",
      "* `NC_004547` vs `NC_010694`\n",
      "* `NC_013421` vs `NC_004547`\n",
      "* `NC_013421` vs `NC_010694`\n",
      "* `NC_010694` vs `NC_004547`\n",
      "* `NC_010694` vs `NC_013421`\n",
      "\n",
      "using BLAST commands of the form:\n",
      "\n",
      "```\n",
      "blastp -query data/NC_004547.faa -subject data/NC_013421.faa \\\n",
      "       -outfmt \"6 qseqid sseqid qlen slen length nident pident evalue bitscore\" \\\n",
      "       -out output/NC_004547_vs_NC_013421.tab -max_target_seqs 1\n",
      "```\n",
      "\n",
      "These commands have been run for you already to save time (on my laptop, without parallelisation, the searches take around 15min) but, if you would like to see how they were run, please take a look at the accompanying script file `run_rbbh_blast.sh`. You can do this by entering\n",
      "\n",
      "```\n",
      "!cat run_rbbh_blast.sh\n",
      "```\n",
      "\n",
      "in an iPython cell (see below). This results in the production of six BLAST output files."
     ]
    },
    {
     "cell_type": "code",
     "collapsed": false,
     "input": [
      "# Uncomment the line below to see the shell script that ran the example BLASTP searches\n",
      "#!cat run_rbbh_blast.sh"
     ],
     "language": "python",
     "metadata": {},
     "outputs": []
    },
    {
     "cell_type": "markdown",
     "metadata": {},
     "source": [
      "## 2. Processing BLASTP output, and identifying reciprocal best BLAST hits\n",
      "\n",
      "For demonstration purposes, I chose to generate non-standard BLAST output. The BLAST command was set to find a single match for each input protein sequence, and to generate a tab-separated plain text table listing data for each match, with the following columns:\n",
      "\n",
      "    query_id  subject_id  query_length  subject_length alignment_length  identical_sites  percentage_identity  E-value  bitscore\n",
      "    \n",
      "Output files are in the `rbbh_output` directory. You can see them by running `ls` or `tree` (see below)."
     ]
    },
    {
     "cell_type": "code",
     "collapsed": false,
     "input": [
      "#!tree -sh rbbh_output  # Uncomment this line to view the contents of the rbbh_output/ directory"
     ],
     "language": "python",
     "metadata": {},
     "outputs": []
    },
    {
     "cell_type": "code",
     "collapsed": false,
     "input": [
      "#!ls -ltrh rbbh_output  # Uncomment this line to view the contents of the rbbh_output/ directory"
     ],
     "language": "python",
     "metadata": {},
     "outputs": []
    },
    {
     "cell_type": "markdown",
     "metadata": {},
     "source": [
      "### Coverage and Identity\n",
      "\n",
      "The tab-separated tabular format generated above allows us to process the BLAST output easily into a `Pandas` dataframe (similar to an `R` dataframe, which you may be familiar with). For this output, I chose to recover only the information relevant to determining whether two sequences are RBBH matches. This includes the information required to filter BLAST matches on the basis of two parameters: *coverage* and *identity*, and illustrate their relationship to E-value and bitscore.\n",
      "\n",
      "* **identity**: This is the percentage of the BLASTP alignment that is made up of identical amino acid sequence, in the two matching sequences.\n",
      "* **coverage**: There are two coverage values, one for the query sequence, and one for the subject sequence. They represent the percentage of the query (or subject) sequence that is covered by the aligned region.\n",
      "\n",
      "These are useful parameters because they allow us to tune our BLAST output to reflect the degree of sequence similarity (and therefore presumed functional similarity) we want to have in our final RBBH set (see presentation slides).\n",
      "\n",
      "To calculate percentage identity ($PID$) of the BLAST match directly (though this value is provided for us to use in the BLAST output), we would calculate:\n",
      "\n",
      "$$\n",
      "PID = \\frac{\\text{identical_sites}}{\\text{alignment_length}}\n",
      "$$\n",
      "\n",
      "and to calculate query and subject coverage ($COV_{q}$ and $COV_{s}$), we find:\n",
      "\n",
      "$$\n",
      "COV_q = \\frac{\\text{alignment_length}}{\\text{query_length}} \\\\\n",
      "COV_s = \\frac{\\text{alignment_length}}{\\text{subject_length}}\n",
      "$$"
     ]
    },
    {
     "cell_type": "markdown",
     "metadata": {},
     "source": [
      "**ACTIVITY 1:** Use the code cell below to calculate the percentage identity, query and subject sequence coverage for this BLAST match from `NC_010694_vs_NC_013421.tab` (the meaning of each column is given in the text above):\n",
      "\n",
      "```\n",
      "gi|188532486|ref|YP_001906283.1|  gi|261820109|ref|YP_003258215.1|  93  87  76  61  80.26  1e-39  127\n",
      "```"
     ]
    },
    {
     "cell_type": "code",
     "collapsed": false,
     "input": [
      "# Use this cell to calculate your solution to Exercise 1 above.\n",
      "line = \"gi|188532486|ref|YP_001906283.1|  gi|261820109|ref|YP_003258215.1|  93  87  76  61  80.26  1e-39  127\""
     ],
     "language": "python",
     "metadata": {},
     "outputs": []
    },
    {
     "cell_type": "markdown",
     "metadata": {},
     "source": [
      "### Parsing BLASTP output\n",
      "\n",
      "We can use the Python code below to process BLASTP output and obtain a set of RBBH for each pairwise comparison. The code uses `Pandas` to hold the BLASTP output, and the processed RBBH in dataframes, for ease of processing. \n",
      "\n",
      "The function `find_rbbh()` takes four arguments. The first two arguments are the accession numbers for the genomes that are to be compared: `NC_004547`, `NC_013421` and `NC_010694`. The next two (optional) arguments are the required percentage identity of the RBBH match, and the minimum coverage of either query or subject sequence that we will accept, for a RBBH."
     ]
    },
    {
     "cell_type": "code",
     "collapsed": false,
     "input": [
      "# This Python code provides a function to identify RBBH from \n",
      "# custom-formatted BLAST tabular output, and returns one-way \n",
      "# and RBBH matches in Pandas dataframes.\n",
      "#\n",
      "# It implements only one (of several possible) methods of \n",
      "# identifying reciprocal best BLAST hits (RBBH) from our \n",
      "# example data.\n",
      "\n",
      "# IMPORTS\n",
      "from matplotlib.colors import LogNorm\n",
      "import pandas as pd\n",
      "import os\n",
      "\n",
      "# GLOBALS\n",
      "datadir = \"rbbh_output\"\n",
      "\n",
      "# Function to read BLAST data\n",
      "def read_data(s1, s2):\n",
      "    \"\"\" Reads BLASTP tabular output data from the file corresponding\n",
      "        to passed accessions, returning a Pandas dataframe.\n",
      "    \"\"\"\n",
      "    # We specify no index for these dataframes\n",
      "    df = pd.DataFrame.from_csv(os.path.join(datadir, \"%s_vs_%s.tab\" % (s1, s2)),\n",
      "                               sep=\"\\t\", index_col=None)\n",
      "    df.columns=['query_id', 'subject_id', 'query_length', 'subject_length', \n",
      "                'alignment_length', 'identical_sites', 'percentage_identity',\n",
      "                'Evalue', 'bitscore']\n",
      "    return df\n",
      "    \n",
      "# Function to calculate query and subject coverage for a BLAST dataset\n",
      "def calculate_coverage(*df):\n",
      "    \"\"\" For the passed dataframe, calculates query and subject coverage,\n",
      "        and returns the original dataframe with two new columns,\n",
      "        query_coverage and subject_coverage.\n",
      "    \"\"\"\n",
      "    for d in df:\n",
      "        d['query_coverage'] = 100 * d.alignment_length/d.query_length\n",
      "        d['subject_coverage'] = 100 * d.alignment_length/d.subject_length\n",
      "    return df\n",
      "    \n",
      "\n",
      "# Function to filter dataframe on percentage identity and coverage\n",
      "def filter_cov_id(pid, cov, *df):\n",
      "    \"\"\" Filters the passed dataframe, returning only rows that meet\n",
      "        passed percentage identity and coverage criteria.\n",
      "    \"\"\"\n",
      "    return tuple([d[(d.percentage_identity > pid) & (d.query_coverage > cov) &\n",
      "                  (d.subject_coverage > cov)] for d in df])\n",
      "    \n",
      "    \n",
      "# Function to filter dataframe to best HSP match only, for any query\n",
      "def filter_matches(*df):\n",
      "    \"\"\" Filters rows duplicated by query_id with a \n",
      "        Pandas DataFrame method: drop_duplicates. By default, this\n",
      "        keeps the first encountered row, which is also the \"best\"\n",
      "        HSP in BLAST tabular output.\n",
      "    \"\"\"\n",
      "    return tuple([d.drop_duplicates(cols='query_id') for d in df])\n",
      "    \n",
      "# Function to parse the appropriate BLASTP data and return a dataframe of RBBH\n",
      "def find_rbbh(s1, s2, pid=0, cov=0):\n",
      "    \"\"\" Takes the accessions for two organisms, and \n",
      "        1. parses the appropriate BLASTP output into two dataframes, and \n",
      "           calculates coverage, discarding all but the \"best\" HSP, on the\n",
      "           basis of bitscore, where there are multiple HSPs for a hit.\n",
      "        2. cuts out rows that do not meet minimum percentage identity and\n",
      "           coverage criteria.\n",
      "        3. identifies RBBH from the remaining BLAST matches.\n",
      "    \"\"\"\n",
      "    assert s1 != s2, \"Accessions should not match! %s=%s\" % (s1, s2)\n",
      "    assert 0 <= pid <= 100, \"Percentage identity should be in [0,100], got %s\" % str(pid)\n",
      "    assert 0 <= cov <= 100, \"Minimum coverage should be in [0,100], got %s\" % str(cov)\n",
      "    # Read in tabular BLAST output\n",
      "    df1, df2 = read_data(s1, s2), read_data(s2, s1)\n",
      "    # Filter to best HSP match only\n",
      "    df1, df2 = filter_matches(df1, df2)\n",
      "    # Calculate query and subject coverage for each dataset\n",
      "    df1, df2 = calculate_coverage(df1, df2)\n",
      "    # Filter datasets on minimum percentage identity and minimum coverage\n",
      "    df1, df2 = filter_cov_id(pid, cov, df1, df2)\n",
      "    # Identify RBBH from the two datasets on the basis of matching query and \n",
      "    # subject sequence ID\n",
      "    matches = df1.merge(df2, left_on=(\"query_id\", \"subject_id\"), right_on=(\"subject_id\", \"query_id\"))\n",
      "    rbbh = matches[[\"query_id_x\", \"subject_id_x\", \"percentage_identity_x\", \"percentage_identity_y\",\n",
      "                    \"query_coverage_x\", \"query_coverage_y\", \"subject_coverage_x\", \"subject_coverage_y\",\n",
      "                    \"bitscore_x\", \"bitscore_y\", \"Evalue_x\", \"Evalue_y\"]]\n",
      "    rbbh.to_csv(os.path.join(datadir, \"rbbh_%s_vs_%s.tab\" % (s1, s2)), sep='\\t')\n",
      "    return df1, df2, rbbh"
     ],
     "language": "python",
     "metadata": {},
     "outputs": []
    },
    {
     "cell_type": "markdown",
     "metadata": {},
     "source": [
      "We can identify all the RBBH for any pair of our example genomes, using the `find_rbbh()` function. This returns three dataframes:\n",
      "\n",
      "* `df1`: the forward direction one-way BLAST search\n",
      "* `df2`: the reverse direction one-way BLAST search\n",
      "* `rbbh`: the corresponding set of reciprocal best hits\n",
      "\n",
      "By using the `head()` method of each dataframe, we can inspect the first few rows.\n",
      "\n",
      "We do this now for the *Pectobacterium* chromosomes `NC_004547` and `NC_013421`.\n",
      "\n",
      "**NOTE: you can experiment with different combinations of input files, and percentage identity and coverage cutoffs**"
     ]
    },
    {
     "cell_type": "code",
     "collapsed": false,
     "input": [
      "df1, df2, rbbh = find_rbbh('NC_004547', 'NC_013421', pid=0, cov=0)\n",
      "rbbh.head()"
     ],
     "language": "python",
     "metadata": {},
     "outputs": []
    },
    {
     "cell_type": "markdown",
     "metadata": {},
     "source": [
      "We can see what size each dataframe is by using its `.shape` attribute, and the number of rows by using `len()`. So, to compare the shapes and row counts of `df1`, `df2` and `rbbh`, we can write:"
     ]
    },
    {
     "cell_type": "code",
     "collapsed": false,
     "input": [
      "\"Shapes - df1: %s, df2: %s, rbbh: %s\" % (df1.shape, df2.shape, rbbh.shape)"
     ],
     "language": "python",
     "metadata": {},
     "outputs": []
    },
    {
     "cell_type": "code",
     "collapsed": false,
     "input": [
      "\"Row counts - df1: %s, df2: %s, rbbh: %s\" % (len(df1), len(df2), len(rbbh))"
     ],
     "language": "python",
     "metadata": {},
     "outputs": []
    },
    {
     "cell_type": "markdown",
     "metadata": {},
     "source": [
      "Both methods tell us that, with `pid` and `cov` set to their default values of zero, using `NC_004547` as a one-way query against `NC_013421` gives 4449 matches, while the reverse one-way search gives 4406 matches. \n",
      "\n",
      "It also tells us that the total count of RBBH from those two comparisons is 3483 (i.e. 78-79% of one-way searches give rise to RBBH)."
     ]
    },
    {
     "cell_type": "markdown",
     "metadata": {},
     "source": [
      "**ACTIVITY 2:** Why do you think that only around 80% of one-way best BLAST matches in our example give rise to RBBH?"
     ]
    },
    {
     "cell_type": "markdown",
     "metadata": {},
     "source": [
      "We can get more summary information out of a dataframe with its `describe()` method:"
     ]
    },
    {
     "cell_type": "code",
     "collapsed": false,
     "input": [
      "rbbh.describe()"
     ],
     "language": "python",
     "metadata": {},
     "outputs": []
    },
    {
     "cell_type": "markdown",
     "metadata": {},
     "source": [
      "From this example we can see that, while the average RBBH percentage coverage and identity are quite high (93% and 98%), in some cases these can drop as low as 19% and 2%, respectively. Clearly, not all RBBH are equally high-quality, and we will want to filter our results when applied to real data and analyses."
     ]
    },
    {
     "cell_type": "markdown",
     "metadata": {},
     "source": [
      "**ACTIVITY 3:** The maximum values of query and subject coverage are greater than 100% - why do you think this can happen?"
     ]
    },
    {
     "cell_type": "markdown",
     "metadata": {},
     "source": [
      "## 3. Visualising and interpreting RBBH output\n",
      "\n",
      "In this section, we will use basic visualisation approaches to inspect the behaviour of the one-way and reciprocal BLAST output calculated above."
     ]
    },
    {
     "cell_type": "code",
     "collapsed": false,
     "input": [
      "# This Python code provides a pair of functions that aid\n",
      "# visualisation of the reciprocal and one-way BLAST hits\n",
      "# returned by find_rbbh() defined above.\n",
      "\n",
      "# Function to plot 2D histogram, with colorbar scale, from\n",
      "# two dataframe columns.\n",
      "def plot_hist2d(col1, col2, xlab=\"\", ylab=\"\", header=\"\", bins=100):\n",
      "    \"\"\" Plots a 2D histogram of the two passed dataframe columns\n",
      "    \"\"\"\n",
      "    fig = figure()\n",
      "    ax = fig.add_subplot(111)\n",
      "    # How we render 2D histograms/heatmaps varies, dependent on the \n",
      "    # Matplotlib version\n",
      "    if float('.'.join(matplotlib.__version__.split('.')[:2])) > 1.2:\n",
      "        c, x, y, f = ax.hist2d(col1, col2, bins=bins, norm=LogNorm())\n",
      "        fig.colorbar(f)\n",
      "    else:\n",
      "        h, x, y = histogram2d(list(col2), list(col1), bins=bins)\n",
      "        im = ax.imshow(h, extent=[x[0], x[-1], y[0], y[-1]],\n",
      "                       aspect=\"equal\", origin=\"lower\",\n",
      "                       interpolation=\"nearest\",\n",
      "                       norm=LogNorm(vmin=1, vmax=len(col1)))\n",
      "        fig.colorbar(im)\n",
      "    ax.set_xlabel(xlab)\n",
      "    ax.set_ylabel(ylab)\n",
      "    ax.set_title(header)\n",
      "    \n",
      "# Function for scatterplot from two dataframe columns.\n",
      "def plot_scatter(col1, col2, xlab=\"\", ylab=\"\", header=\"\"):\n",
      "    \"\"\" Plots a scatterplot of the two passed dataframe columns,\n",
      "        colouring points by y-axis value.\n",
      "    \"\"\"\n",
      "    fig = figure()\n",
      "    ax = fig.add_subplot(111)\n",
      "    f = ax.scatter(col1, col2, c=col2,\n",
      "                   cmap=cm.get_cmap(\"hot\"))\n",
      "    ax.set_xlabel(xlab)\n",
      "    ax.set_ylabel(ylab)\n",
      "    ax.set_title(header)"
     ],
     "language": "python",
     "metadata": {},
     "outputs": []
    },
    {
     "cell_type": "markdown",
     "metadata": {},
     "source": [
      "### One-way BLAST output\n",
      "\n",
      "We can view some of the basic relationships between BLAST's reported measures of match quality, using scatterplots.\n",
      "\n",
      "#### E-values\n",
      "Often, BLAST's E-values are taken to be reliable indicators of match quality, and are often (**incorrectly**) interpreted as probability values. However, E-values are influenced by query sequence length, and the size of the database being searched against. They are not simply a reflection of alignment quality, but alignment quality *in the context of the exact search that was done*. The same alignment/match can return multiple different E-values, depending on the database in which the match was found. This makes it unreliable as a comparator between different BLAST searches\n",
      "\n",
      "#### (Normalised) Bitscores\n",
      "BLAST's E-values are calculated from the alignment bitscore, modified to reflect the query sequence length and database composition. The (normalised) bitscore itself directly reflects the sequence alignment, and is more reliable for comparison across different BLAST searches.\n",
      "\n",
      "#### Percentage identity\n",
      "BLAST reports percentage identity of the aligned region, **not** percentage identity between the query and subject sequence. Two sequences that share a common motif exactly may, in some circumstances, result in an alignment with 100% identity, even though the sequences are quite different - even if they differ over nearly all their length.\n",
      "\n",
      "#### Percentage coverage\n",
      "This is not reported directly by BLAST, and has to be derived from its output (see above). As calculated above, it reflects the proportion of the query or subject sequence covered by the BLAST alignment. It is useful therefore to distinguish between instances where a high percentage identity corresponds to a full-length protein match, and where it reflects only that a single domain is found to be in common between two proteins. Note that there are two possible coverage values: one for the query, and one for the subject."
     ]
    },
    {
     "cell_type": "markdown",
     "metadata": {},
     "source": [
      "**Example 1:** We can inspect the relationship between E-value and bitscore for one-way BLAST hits with a scatterplot:"
     ]
    },
    {
     "cell_type": "code",
     "collapsed": false,
     "input": [
      "plot_scatter(df1.bitscore, log10(df1.Evalue), \n",
      "             \"bitscore\", \"log_{10}(E-value)\", \n",
      "             \"one-way E-value vs bitscore\")"
     ],
     "language": "python",
     "metadata": {},
     "outputs": []
    },
    {
     "cell_type": "markdown",
     "metadata": {},
     "source": [
      "The approximately linear relationship between bitscore and E-value, where large bitscore corresponds to lower E-value, is clear from the plot. However, there is a reasonable amount of deviation around that line, and the relationship breaks down more significantly as bitscore increases, and the E-value approaches the lowest value that can be represented by the computer."
     ]
    },
    {
     "cell_type": "markdown",
     "metadata": {},
     "source": [
      "**Example 2:** How do E-value and bitscore vary with query length?"
     ]
    },
    {
     "cell_type": "code",
     "collapsed": false,
     "input": [
      "plot_scatter(df1.query_length, log10(df1.Evalue), \n",
      "             \"query length\", \"log_{10}(E-value)\", \n",
      "             \"one-way E-value vs query length\")"
     ],
     "language": "python",
     "metadata": {},
     "outputs": []
    },
    {
     "cell_type": "code",
     "collapsed": false,
     "input": [
      "plot_scatter(df1.query_length, df1.bitscore, \n",
      "             \"query length\", \"bitscore\", \n",
      "             \"one-way bitscore vs query length\")"
     ],
     "language": "python",
     "metadata": {},
     "outputs": []
    },
    {
     "cell_type": "markdown",
     "metadata": {},
     "source": [
      "This throws up some interesting observations:\n",
      "\n",
      "1. As query length increases, the 'best' (smallest) E-value that can be reported also falls.\n",
      "2. Bitscores show two relationships - a population for which bitscore increases with query length, and a population for which bitscore does not increase with query length.\n",
      "3. The largest query lengths correspond to the lowest E-values, but surprisingly low bitscores.\n",
      "\n",
      "So, longer queries might make one-way matches look 'better' than they really are, if only E-values are considered."
     ]
    },
    {
     "cell_type": "markdown",
     "metadata": {},
     "source": [
      "**Example 3:** How are query and subject sequence coverage related?\n",
      "\n",
      "For this question, we move from 2D scatterplots to heatmaps/2D histograms. In this representation, the X and Y values define a plane, which is divided into a grid (or sometimes [hexfield](http://matplotlib.org/examples/pylab_examples/hexbin_demo.html)) of *cells*. These cells are coloured by the number of points that fill them, so that variation in the frequency of datapoints can easily be seen.\n",
      "\n",
      "Here, we are plotting one-way BLAST hit query coverage on the x-axis, and subject coverage on the y-axis. Cells are filled with colours from the default (`jet`) colourmap. The `plot_hist2d` function defines 100 bins in each axis by default, so there are approximately 10,000 cells in the resulting plots. In this case, cells with large numbers of points are coloured red, and those with few points are coloured blue (on a log scale). Empty cells are left white.\n",
      "\n",
      "**ACTIVITY 4:** What pattern do you expect to see from plotting subject against query coverage from one-way BLAST hits?"
     ]
    },
    {
     "cell_type": "code",
     "collapsed": false,
     "input": [
      "plot_hist2d(df1.query_coverage, df1.subject_coverage, \n",
      "            \"one-way COVq\", \"one-way COVs\", \n",
      "            \"one-way coverage comparison\")"
     ],
     "language": "python",
     "metadata": {},
     "outputs": []
    },
    {
     "cell_type": "markdown",
     "metadata": {},
     "source": [
      "The relationship between query and subject sequence coverage is a complex one:\n",
      "\n",
      "1. The vast majority of datapoints (i.e. BLAST hits) are at or near 100% coverage of both query and subject sequences.\n",
      "2. There is a population of hits with approximately linear 1:1 relationship (bottom-left to top-right) of query to subject sequence coverage.\n",
      "3. There is a population of queries with \u2248100% coverage, but whose subject sequence coverage varies across the full range from 15-100%\n",
      "4. There is a large population of query sequences with low coverage (<60%) whose best BLAST hit covers less than 20% of the subject sequence.\n",
      "\n",
      "**Exercise 5:** What kinds of sequence alignments might explain these different populations, and what sort of sequence similarity of query and subject sequences might be associated with each?"
     ]
    },
    {
     "cell_type": "markdown",
     "metadata": {},
     "source": [
      "**Example 4:** What is the relationship between percentage identity, and coverage?\n",
      "\n",
      "We can plot alignment identity against e.g. query sequence coverage to see whether we should trust the alignment identity scores by themselves.\n",
      "\n",
      "**Exercise 6:** What kind of relationship between these values do you expect to see?"
     ]
    },
    {
     "cell_type": "code",
     "collapsed": false,
     "input": [
      "plot_hist2d(df1.query_coverage, df1.percentage_identity, \n",
      "            \"query coverage\", \"percentage identity\", \n",
      "            \"one-way percentage identity vs query coverage\")"
     ],
     "language": "python",
     "metadata": {},
     "outputs": []
    },
    {
     "cell_type": "markdown",
     "metadata": {},
     "source": [
      "Again, we find a complex relationship. The bulk of the data is found in the upper right corner of the plot, indicating that this is a full-length match to the query sequence, and that the match has nearly 100% identity.\n",
      "\n",
      "But there is a second population that is smeared across the lower half of the graph, where the query coverage varies widely, and the percentage identity rarely rises above 50%\n",
      "\n",
      "**ACTIVITY 7:** What kinds of sequence alignments might explain these two populations?\n",
      "\n",
      "Now that we know how our one-way BLAST matches behave, we can see how considering only reciprocal best BLAST matches affects our results."
     ]
    },
    {
     "cell_type": "markdown",
     "metadata": {},
     "source": [
      "### Reciprocal Best BLAST Hits\n",
      "\n",
      "Now we can compare the relationship between our RBBHs and the one-way BLAST matches, to see how one-way BLAST searches compare to the identification of putative orthologues.\n",
      "\n",
      "If you have been experimenting with other datasets and code, you might want to run the code cell below before continuing:"
     ]
    },
    {
     "cell_type": "code",
     "collapsed": false,
     "input": [
      "# Uncomment and run the line below to get a clean dataset\n",
      "df1, df2, rbbh = find_rbbh('NC_004547', 'NC_013421', pid=0, cov=0)"
     ],
     "language": "python",
     "metadata": {},
     "outputs": []
    },
    {
     "cell_type": "markdown",
     "metadata": {},
     "source": [
      "We can render the same plots as we did above, and compare them to see how finding RBBH affects the kinds of BLAST alignments that are retained."
     ]
    },
    {
     "cell_type": "markdown",
     "metadata": {},
     "source": [
      "**Example 1:** Alignment coverage."
     ]
    },
    {
     "cell_type": "code",
     "collapsed": false,
     "input": [
      "plot_hist2d(df1.query_coverage, df1.subject_coverage, \n",
      "            \"one-way COVq\", \"one-way COVs\", \n",
      "            \"one-way coverage comparison\", bins=50)\n",
      "plot_hist2d(rbbh.query_coverage_x, rbbh.subject_coverage_x, \n",
      "            \"RBBH COVq\", \"RBBH COVs\", \n",
      "            \"RBBH coverage comparison\", bins=50)"
     ],
     "language": "python",
     "metadata": {},
     "outputs": []
    },
    {
     "cell_type": "markdown",
     "metadata": {},
     "source": [
      "By retaining only RBBH, most of the complexity of the coverage plot has been discarded. In particular, the large cluster of low COVs sequences in the lower-left of the graph, corresponding to query sequences matching only a subdomain of the subject sequence, has disappeared.\n",
      "\n",
      "Although there are still small numbers of RBBH where coverage is low in one, other or both query and subject sequences, the matches have been very efficiently reduced to the large set in the upper-right corner, indicative of full-length matches of both query and subject sequence, which are intuitively more likely to correspond to orthologues than matches in any other region of the plot."
     ]
    },
    {
     "cell_type": "markdown",
     "metadata": {},
     "source": [
      "**Example 2:** Coverage and percentage identity"
     ]
    },
    {
     "cell_type": "code",
     "collapsed": false,
     "input": [
      "plot_hist2d(df1.query_coverage, df1.percentage_identity, \n",
      "            \"query coverage\", \"percentage identity\", \n",
      "            \"one-way percentage identity vs query coverage\",\n",
      "            bins=50)\n",
      "plot_hist2d(rbbh.query_coverage_x, rbbh.percentage_identity_x, \n",
      "            \"query coverage\", \"percentage identity\", \n",
      "            \"RBBH percentage identity vs query coverage\",\n",
      "            bins=50)"
     ],
     "language": "python",
     "metadata": {},
     "outputs": []
    },
    {
     "cell_type": "markdown",
     "metadata": {},
     "source": [
      "We see a similar effect in the plot of RBBH alignment identity against alignment coverage. The complexity seen in the one-way BLAST match plot has all but disappeared when only RBBH are considered. This has left, almost exclusively, BLAST matches to the full query sequence, with a level of sequence identity above 60% for the alignment.\n",
      "\n",
      "There are, again, small numbers of RBBH for which there is not a (nearly) full-length query sequence alignment, or for which the alignment identity is low. These can be removed by imposing a coverage and/or sequence identity filter, e.g. using the `pid` and `cov` arguments of the `find_rbbh()` function.\n",
      "\n",
      "**ACTIVITY 8:** What values of `pid` and `cov` do you think might be reasonable to restrict the RBBH results further, to exclude the majority of matches between non-orthologues, and why? Example code that may be useful for your own experimentation is given below."
     ]
    },
    {
     "cell_type": "code",
     "collapsed": false,
     "input": [
      "# This code generates a new RBBH data set: rbbh_40 (it doesn't matter that \n",
      "# df1 and df2 are overwritten, here - we're only comparing RBBH).\n",
      "# Also, two histograms are plotted - the first shows all RBBH, and the second \n",
      "# shows the effect of the different percentage identity and coverage settings.\n",
      "\n",
      "df1, df2, rbbh = find_rbbh('NC_004547', 'NC_013421', pid=0, cov=0)       # original\n",
      "df1, df2, rbbh_40 = find_rbbh('NC_004547', 'NC_013421', pid=40, cov=40)  # new\n",
      "plot_hist2d(rbbh.query_coverage_x, rbbh.percentage_identity_x, \n",
      "            \"query coverage\", \"percentage identity\", \n",
      "            \"RBBH percentage identity vs query coverage\",\n",
      "            bins=50)\n",
      "plot_hist2d(rbbh_40.query_coverage_x, rbbh_40.percentage_identity_x, \n",
      "            \"query coverage\", \"percentage identity\", \n",
      "            \"RBBH_40 percentage identity vs query coverage\",\n",
      "            bins=50)\n",
      "plot_hist2d(rbbh.query_coverage_x, rbbh.subject_coverage_x, \n",
      "            \"one-way COVq\", \"one-way COVs\", \n",
      "            \"RBBH coverage comparison\", bins=50)\n",
      "plot_hist2d(rbbh_40.query_coverage_x, rbbh_40.subject_coverage_x, \n",
      "            \"RBBH COVq\", \"RBBH COVs\", \n",
      "            \"RBBH_40 coverage comparison\", bins=50)"
     ],
     "language": "python",
     "metadata": {},
     "outputs": []
    },
    {
     "cell_type": "markdown",
     "metadata": {},
     "source": [
      "# 4. Writing RBBH output to file\n",
      "\n",
      "Now we will write the RBBH found above to a `.crunch` output file suitable for viewing in **ACT**. This job is made easier because we have collected our data in a Pandas dataframe. \n",
      "\n",
      "However, we do not yet have enough information to generate such a file, because we do not have the locations of our gene features, with respect to their source sequences. The following Python code will allow us to get this data:"
     ]
    },
    {
     "cell_type": "code",
     "collapsed": false,
     "input": [
      "# IMPORTS\n",
      "from Bio import SeqIO\n",
      "\n",
      "# Function to process GenBank files into a dictionary of CDS features,\n",
      "# keyed by protein ID, where the values are a tuple of (source, start, end, \n",
      "# strand) information.\n",
      "def read_genbank(*filenames):\n",
      "    \"\"\" Returns a dictionary of CDS annotations, where the dictionary keys\n",
      "        are the CDS protein ID accession numbers, and the values are\n",
      "        (source, start, end, strand, id) information about the CDS location\n",
      "        on the chromosome.\n",
      "        \n",
      "        - *filenames, the organism's GenBank annotation files\n",
      "    \"\"\"\n",
      "    ft_dict = {}\n",
      "    for filename in filenames:\n",
      "        with open(filename, 'rU') as fh:\n",
      "            record = SeqIO.read(fh, 'genbank')\n",
      "            # Reconstruct the name in the corresponding .fna file\n",
      "            record_name = '|'.join([\"gi\", record.annotations['gi'],\n",
      "                                    \"ref\", record.id])\n",
      "            for ft in [f for f in record.features if f.type == \"CDS\"]:\n",
      "                ft_dict[ft.qualifiers['protein_id'][0]] = \\\n",
      "                    (record_name, int(ft.location.start), \n",
      "                     int(ft.location.end), ft.location.strand)\n",
      "    print \"Loaded %d features\" % len(ft_dict)\n",
      "    return ft_dict\n",
      "                "
     ],
     "language": "python",
     "metadata": {},
     "outputs": []
    },
    {
     "cell_type": "markdown",
     "metadata": {},
     "source": [
      "We can use the `read_genbank()` function to process the corresponding GenBank files to obtain the data we need:"
     ]
    },
    {
     "cell_type": "code",
     "collapsed": false,
     "input": [
      "features = read_genbank(\"data/NC_004547.gbk\", \"data/NC_013421.gbk\")"
     ],
     "language": "python",
     "metadata": {},
     "outputs": []
    },
    {
     "cell_type": "markdown",
     "metadata": {},
     "source": [
      "And then we can use the `write_crunch()` function below to generate this output:"
     ]
    },
    {
     "cell_type": "code",
     "collapsed": false,
     "input": [
      "# IMPORTS\n",
      "import os\n",
      "\n",
      "# Function to split a full sequence reference ID into only the last value\n",
      "def split_seqid(seqid):\n",
      "    if '|' not in seqid:\n",
      "        return seqid\n",
      "    return seqid.split('|')[-2]\n",
      "\n",
      "# Function to write a single line of a Pandas RBBH dataframe to file\n",
      "def write_line(line, features, fh):\n",
      "    ft1 = features[split_seqid(line['query_id_x'])]\n",
      "    ft2 = features[split_seqid(line['subject_id_x'])]\n",
      "    fh.write(' '.join([str(line['bitscore_x']),\n",
      "                       str(line['percentage_identity_x']),\n",
      "                       str(ft1[2]) if ft1[3] < 0 else str(ft1[1]),\n",
      "                       str(ft1[1]) if ft1[3] < 0 else str(ft1[1]),                                \n",
      "                       str(ft1[0]),\n",
      "                       str(ft2[2]) if ft2[3] < 0 else str(ft2[1]),\n",
      "                       str(ft2[1]) if ft2[3] < 0 else str(ft2[1]),\n",
      "                       str(ft2[0])\n",
      "                       ]) + '\\n')\n",
      "\n",
      "# Function to write .crunch output for ACT visualisation, from the\n",
      "# RBBH identified above\n",
      "def write_crunch(rbbh, features, outdir=\"rbbh_output\", filename=\"rbbh.crunch\"):\n",
      "    \"\"\" Writes .crunch output in outdir, for those RBBH stored in the \n",
      "        passed dataframe\n",
      "    \"\"\"\n",
      "    with open(os.path.join(outdir, filename), 'w') as fh:\n",
      "        rbbh.apply(write_line, axis=1, args=(features, fh))\n",
      "    print \"Wrote file to %s\" % os.path.join(outdir, filename)\n",
      "        "
     ],
     "language": "python",
     "metadata": {},
     "outputs": []
    },
    {
     "cell_type": "code",
     "collapsed": false,
     "input": [
      "write_crunch(rbbh, features, filename=\"NC_004547_vs_NC_013421.crunch\")"
     ],
     "language": "python",
     "metadata": {},
     "outputs": []
    },
    {
     "cell_type": "markdown",
     "metadata": {},
     "source": [
      "The `.crunch` file produced should now be usable in **ACT**, to visualise the comparison between these two genomes.\n",
      "\n",
      "**ACTIVITY 9:** Visualise and comment on the RBBH comparison between the two *Pectobacterium* genomes. There appears to have been some rearrangement/inversion of the two genomes. Propose a series of events that explain this restructuring.\n",
      "\n",
      "**ACTIVITY 10:** Repeat this analysis for comparisons of the *Pectobacterium* and *Erwinia tasmaniensis* genomes."
     ]
    }
   ],
   "metadata": {}
  }
 ]
}